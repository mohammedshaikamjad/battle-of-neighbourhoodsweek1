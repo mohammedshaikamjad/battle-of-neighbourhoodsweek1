{
    "cells": [
        {
            "cell_type": "markdown",
            "metadata": {
                "collapsed": true
            },
            "source": "# 1. Discussion and Background of the Business Problem:\n\nRestaurant businesses are the one business now booming and as well as every one wants to try food in all restaurants.  So, have to search a good restaurant based on reviews, fame, good will and mouth talk   \nwhen we start a business, it causes risk factor and failure of business without having a proper knowledge and chef selection\n\u2022\tStarting a Restaurant is something which requires a nice measure of venture. You should take costs like kitchen, furniture, \nutensils, porcelain, and so on, and so forth and the spending plan for something very similar. Start with a financial plan of \nthe amount you will spend on these dependent on limit of eatery and administrations you mean to serve. \n\u2022\tRestaurant for the most part is opened in places which have a high foot fall and these spots are ridiculous costly,\nKeep the expense in your brain before you get down to monetary arranging.\n\n\nStarting a restaurant, as intimidating as it can sound, is certainly not a cakewalk. But that doesn't mean your efforts will not be rewarded. Once you establish your brand in the market, there is usually no turning back. Before starting any restaurant, there are 5 major factors that you need to keep in mind to embark on a journey to run a successful restaurant.\n\n\n\n\n1. Money - Isn't it obvious for money to be in the first place?! There is no doubt that you need money to set up a restaurant and to run it smoothly. But, researching about the financials, as to estimate the different costs involved and to plan accordingly is the key.\n2. Time - Are you ready to devote your time to your restaurant? And when I say time, I mean 'most' of your time at least until your restaurant elevates to the next level. Be prepared to spend most of your time at your restaurant. After all, it is 'your' restaurant and it is on you to make it big!\n3. Staff - Most restaurant owners succumb to the responsibilities of running a restaurant and overlook the importance of good customer service. Putting together an efficient team to handle your restaurant operations is critical to ensure customer satisfaction. Apart from this, hiring fine chefs and maintaining a positive relationship with them can go a long way in aiding to your restaurant success.\n4. Location - Think about it...would you prefer going to a place close to home or workplace, or would you travel miles to satisfy your hunger, especially if you live in a traffic-prone city? The significance of setting up your restaurant in a popular and populous location can fetch you with a good crowd and can keep your business running.\n5. Concept and Cuisine - In recent times, with an increase in social media users and food bloggers, ambience and the type of food you serve beats every other factor. Hashtags and taking pictures in pretty locations is the new trend. To stay up to date and to attract all kinds of customers, it is a good idea to come up with interesting concepts and menu.\n"
        },
        {
            "cell_type": "markdown",
            "metadata": {},
            "source": "# Problem Statement\nWhat is the best location for a restaurant in Hyderabad Neighbourhood?\nIn what Neighbourhood should I open a restaurant to have the best chance of being successful?\nHow to attract a customer with discounted offers \nTrade-off between price and location\n"
        },
        {
            "cell_type": "markdown",
            "metadata": {},
            "source": "# Description of the Data:\nThe following data is required to answer the issues of the problem:\nList of neighbourhoods of Hyderabad with their geodata (latitude and longitude)\nList of metro stations in Hyderabad with their address location\nList of prices of products(food) in Hyderabad area with their addresses and price\n\nHow the data will be used to solve the problem\nThe data will be used as follows:\nUse Foursquare and geopy data to map top 10 venues for all Hyderabad neighbourhoods and clustered in groups \nUse foursquare and geopy data to map the location of  metro stations , separately and on top of the above clustered map in order to be able to identify the resturants\nUse Foursquare and geopy data to map the location of resturants places, in some form, linked to the locations.\n"
        }
    ],
    "metadata": {
        "kernelspec": {
            "display_name": "Python 3.7",
            "language": "python",
            "name": "python3"
        },
        "language_info": {
            "codemirror_mode": {
                "name": "ipython",
                "version": 3
            },
            "file_extension": ".py",
            "mimetype": "text/x-python",
            "name": "python",
            "nbconvert_exporter": "python",
            "pygments_lexer": "ipython3",
            "version": "3.7.10"
        }
    },
    "nbformat": 4,
    "nbformat_minor": 1
}